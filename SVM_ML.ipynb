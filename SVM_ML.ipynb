{
 "cells": [
  {
   "cell_type": "markdown",
   "metadata": {},
   "source": [
    "# Imports"
   ]
  },
  {
   "cell_type": "code",
   "execution_count": 25,
   "metadata": {},
   "outputs": [],
   "source": [
    "import numpy as np\n",
    "from pathlib import Path\n",
    "from sklearn.pipeline import make_pipeline\n",
    "from sklearn.preprocessing import StandardScaler\n",
    "from sklearn.svm import SVC\n",
    "import os\n",
    "import matplotlib.pyplot as plt\n",
    "# import seaborn as sns\n",
    "import pandas as pd"
   ]
  },
  {
   "cell_type": "markdown",
   "metadata": {},
   "source": [
    "# Data Processing"
   ]
  },
  {
   "cell_type": "code",
   "execution_count": 26,
   "metadata": {},
   "outputs": [
    {
     "name": "stdout",
     "output_type": "stream",
     "text": [
      "0\n"
     ]
    }
   ],
   "source": [
    "\"\"\"\n",
    "    Classe criada para fazer a analise necessária para o arquivo tendo a necedidade apenas da importação da classe\n",
    "\"\"\"\n",
    "\n",
    "\n",
    "        \n",
    "class spectro(object):\n",
    "    def __init__(self, path, HEADER=0, DELIM=';', W=0, I=2):#Inicialização de um spectro com seus parametros.\n",
    "        #(Acredito faltar otimização mas posso ver com o passar do projeto).\n",
    "        self.matrix = pd.read_csv(path, sep=DELIM, skiprows=HEADER, header=None).to_numpy()\n",
    "        self.df = pd.DataFrame()\n",
    "        self.df['Wavelengths'] = self.matrix[:,W]\n",
    "        self.df['Intensity'] = self.matrix[:,I]\n",
    "        self.Wavelengths = []\n",
    "        self.Intensity = []\n",
    "\n",
    "    def SNV(self):\n",
    "        self.MI = np.mean(self.Intensity, axis=0)\n",
    "        self.DP = np.std(self.Intensity)\n",
    "        self.filterSNV = (self.Intensity-self.MI)/self.DP\n",
    "        return self.filterSNV\n",
    "    pass\n",
    "        \n",
    "\n",
    "class Spectro2(spectro):#parametros iniciais do sistema libs Spectro2\n",
    "    def __init__(self, path, HEADER = 10, DELIM = '\t'):\n",
    "        super().__init__(path, HEADER, DELIM)\n",
    "        self.Arraymatrix = np.array(self.matrix)\n",
    "\n",
    "\n",
    "    pass\n",
    "\n",
    "class Spectro1(spectro):#parametros iniciais do sistema libs Spectro1\n",
    "    def __init__(self, path, HEADER=40, DELIM=';', W=0, I=2):\n",
    "        super().__init__(path, HEADER, DELIM)\n",
    "        self.Matrix = self.df.sort_values(by=['Wavelengths', 'Intensity'])\n",
    "        self.Arraymatrix = np.array(self.Matrix)\n",
    "        self.Wavelengths = self.Arraymatrix[:,0]\n",
    "        self.Intensity = self.Arraymatrix[:,1]\n",
    "\n",
    "#Definitions\n",
    "\n",
    "def libsmean_SNV(DIR_Pr, type = 'Spectro1'):\n",
    "    DIR_Pr = DIR_Pr\n",
    "    if type == 'Spectro1':\n",
    "        A = Spectro1(DIR_Pr/'_ (1).esf')\n",
    "    elif type == \"Spectro2\":\n",
    "            A = Spectro2(shot)\n",
    "    M_SNV = np.zeros(np.shape(A.Intensity)[0])\n",
    "    all_shot = sorted(os.listdir(DIR_Pr))\n",
    "    for i in all_shot:\n",
    "        shot = DIR_Pr.joinpath(i)\n",
    "        if type == 'Spectro1':\n",
    "            A = Spectro1(shot)\n",
    "        elif type == \"Spectro2\":\n",
    "            A = Spectro2(shot)\n",
    "        M_SNV += A.SNV()\n",
    "    M_SNV /= len(all_shot)  \n",
    "    return M_SNV\n",
    "\n",
    "def libsmean(DIR_Pr, type = 'Spectro1'):\n",
    "    DIR_Pr = DIR_Pr\n",
    "    if type == 'Spectro1':\n",
    "        A = Spectro1(DIR_Pr/'_ (1).esf')\n",
    "    elif type == \"Spectro2\":\n",
    "            A = Spectro2(shot)\n",
    "    M_INTENSITY = np.zeros(np.shape(A.Intensity)[0])\n",
    "    all_shot = sorted(os.listdir(DIR_Pr))\n",
    "    for i in all_shot:\n",
    "        shot = DIR_Pr.joinpath(i)\n",
    "        if type == 'Spectro1':\n",
    "            A = Spectro1(shot)\n",
    "        elif type == \"Spectro2\":\n",
    "            A = Spectro2(shot)\n",
    "        M_INTENSITY += A.Intensity\n",
    "    M_INTENSITY /= len(all_shot)  \n",
    "    return M_INTENSITY\n",
    "\n",
    "\n",
    "def main():\n",
    "    return 0\n",
    "\n",
    "if __name__ == '__main__':\n",
    "    main()\n",
    "    print(main())"
   ]
  },
  {
   "cell_type": "markdown",
   "metadata": {},
   "source": [
    "# Definitions"
   ]
  },
  {
   "cell_type": "code",
   "execution_count": 27,
   "metadata": {},
   "outputs": [],
   "source": [
    "def y_m_l(A, B, C): #Criador especifico de grupos de amostra separa em grupos 0 e 1\n",
    "    a = np.zeros(A)\n",
    "    b = np.zeros(B)\n",
    "    c = np.ones(C)\n",
    "    for i in range(len(b)):\n",
    "        a[i] += b[i]\n",
    "    for k in range(len(c)):\n",
    "        a[i+k+1] += c[k]\n",
    "    return a\n",
    "\n",
    "def dirtoread(all_sample, DIR, matrix): #Faz a leitura de todas as pastas\n",
    "    for i in all_sample:\n",
    "        sample = DIR.joinpath(i)\n",
    "        all_piece = sorted(os.listdir(sample))\n",
    "        for j in all_piece:\n",
    "            piece = sample.joinpath(j)\n",
    "            matrix.append(libsmean_SNV(piece))"
   ]
  },
  {
   "cell_type": "markdown",
   "metadata": {},
   "source": [
    "# Matrix Creation"
   ]
  },
  {
   "cell_type": "code",
   "execution_count": 28,
   "metadata": {},
   "outputs": [],
   "source": [
    "ROOT = Path('/home/gustavo-fsc/Documents/Program/Spectroscopy/')\n",
    "\n",
    "\"\"\" \n",
    "Matriz do primeiro tipo de amostra, amostra sem colágeno. Comprimento de luz\n",
    "no visível.\n",
    "\"\"\"\n",
    "\n",
    "matriz = []\n",
    "DIR_NC = ROOT.joinpath('LIBS/VIS/Amostra A sem colágeno')\n",
    "all_sample = sorted(os.listdir(DIR_NC))\n",
    "dirtoread(DIR=DIR_NC, all_sample=all_sample, matrix=matriz)\n",
    "shape1 = len(matriz)\n",
    "        \n",
    "\"\"\"\n",
    "Matriz do segundo tipo de amostra, amos com colágeno. Comprimento de luz\n",
    "no visível.\n",
    "\"\"\"\n",
    "\n",
    "DIR_WC = ROOT.joinpath('LIBS/VIS/Amostra B com colágeno')\n",
    "all_sample = sorted(os.listdir(DIR_WC))\n",
    "dirtoread(DIR=DIR_WC, all_sample=all_sample, matrix=matriz)\n",
    "shape2 = len(matriz) - shape1\n",
    "\n",
    "X = np.array(matriz)\n",
    "# print(X)\n",
    "y = np.array(y_m_l(shape1+shape2, shape1, shape2))"
   ]
  },
  {
   "cell_type": "markdown",
   "metadata": {},
   "source": [
    "# ML"
   ]
  },
  {
   "cell_type": "code",
   "execution_count": 29,
   "metadata": {},
   "outputs": [
    {
     "data": {
      "text/plain": [
       "Pipeline(steps=[('standardscaler', StandardScaler()),\n",
       "                ('svc', SVC(gamma='auto'))])"
      ]
     },
     "execution_count": 29,
     "metadata": {},
     "output_type": "execute_result"
    }
   ],
   "source": [
    "clf = make_pipeline(StandardScaler(), SVC(gamma='auto'))\n",
    "clf.fit(X, y)"
   ]
  },
  {
   "cell_type": "code",
   "execution_count": 30,
   "metadata": {},
   "outputs": [
    {
     "name": "stdout",
     "output_type": "stream",
     "text": [
      "(0, 1, 1, 0)\n"
     ]
    }
   ],
   "source": [
    "DIR = [ ROOT.joinpath('LIBS/VIS/Amostra A sem colágeno/Amostra 3/Pedaço 5'), \n",
    "        ROOT.joinpath('LIBS/VIS/Amostra B com colágeno/Amostra 3/Pedaço 1'),\n",
    "        ROOT.joinpath('LIBS/VIS/Amostra B com colágeno/Amostra 3/Pedaço 6'),\n",
    "        ROOT.joinpath('LIBS/VIS/Amostra A sem colágeno/Amostra 3/Pedaço 4')\n",
    "        ]\n",
    "\n",
    "#teste 1\n",
    "M_SNV = (libsmean_SNV(DIR[0]), libsmean_SNV(DIR[1]), libsmean_SNV(DIR[2]), libsmean_SNV(DIR[3]))\n",
    "\n",
    "pt= (int(clf.predict([M_SNV[0]])), int(clf.predict([M_SNV[1]])), int(clf.predict([M_SNV[2]])), int(clf.predict([M_SNV[3]])))\n",
    "\n",
    "print(pt)"
   ]
  },
  {
   "cell_type": "code",
   "execution_count": 31,
   "metadata": {},
   "outputs": [
    {
     "data": {
      "image/png": "[encoded data removed]",
      "text/plain": [
       "<Figure size 432x288 with 1 Axes>"
      ]
     },
     "metadata": {
      "needs_background": "light"
     },
     "output_type": "display_data"
    }
   ],
   "source": [
    "a = clf.decision_function(X)\n",
    "mask = a>=0\n",
    "mask1 = a<0\n",
    "x = np.arange(0,len(a),1)\n",
    "plt.plot(x[mask] , a[mask], 'r*')\n",
    "plt.plot(x[mask1] , a[mask1], 'b*')\n",
    "plt.grid()\n",
    "plt.show()"
   ]
  },
  {
   "cell_type": "code",
   "execution_count": 32,
   "metadata": {},
   "outputs": [
    {
     "name": "stdout",
     "output_type": "stream",
     "text": [
      "1.0\n",
      "precisão perfeita de amostras\n"
     ]
    }
   ],
   "source": [
    "print(clf.score(X, y, sample_weight=None))\n",
    "\n",
    "print('precisão perfeita de amostras')"
   ]
  }
 ],
 "metadata": {
  "kernelspec": {
   "display_name": "Python 3.8.10 64-bit",
   "language": "python",
   "name": "python3"
  },
  "language_info": {
   "codemirror_mode": {
    "name": "ipython",
    "version": 3
   },
   "file_extension": ".py",
   "mimetype": "text/x-python",
   "name": "python",
   "nbconvert_exporter": "python",
   "pygments_lexer": "ipython3",
   "version": "3.8.10"
  },
  "orig_nbformat": 4,
  "vscode": {
   "interpreter": {
    "hash": "916dbcbb3f70747c44a77c7bcd40155683ae19c65e1c03b4aa3499c5328201f1"
   }
  }
 },
 "nbformat": 4,
 "nbformat_minor": 2
}
